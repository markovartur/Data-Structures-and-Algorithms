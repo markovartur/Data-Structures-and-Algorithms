{
 "cells": [
  {
   "cell_type": "markdown",
   "metadata": {
    "id": "WPvB9TcMmKA6"
   },
   "source": [
    "# Лабораторная работа №5\n",
    "# Рекурсия. Фракталы."
   ]
  },
  {
   "cell_type": "markdown",
   "metadata": {
    "id": "96Gi_LEvmSVH"
   },
   "source": [
    "## Выполнил студент группы БФИ2001 Марков Артур\n",
    "***"
   ]
  },
  {
   "cell_type": "markdown",
   "metadata": {
    "id": "4clYOyb0mbEv"
   },
   "source": [
    "### Задание:\n",
    "Реализовать генерацию заданного типа фрактала с применением рекурсивных функций.\n",
    "\n",
    "\n",
    "Добавить возможность задания глубины фрактала. \n",
    "\n",
    "\n",
    "Оценить глубину рекурсии. \n",
    "\n",
    "\n",
    "Построить таблицу зависимости времени построения от глубины фрактала."
   ]
  },
  {
   "cell_type": "markdown",
   "metadata": {
    "id": "wDXHbUmMmhRL"
   },
   "source": [
    "### Список фракталов:\n",
    "\n",
    "Кривая Коха\n",
    "| Кривая Гильберта\n",
    "| Кривая Серпинского\n",
    "| Салфетка Серпинского\n",
    "| Ковер Серпинского\n",
    "| Дерево Пифагора "
   ]
  },
  {
   "cell_type": "markdown",
   "metadata": {
    "id": "Wggfn8l7nG72"
   },
   "source": [
    "### Выполнение:"
   ]
  },
  {
   "cell_type": "code",
   "execution_count": 125,
   "metadata": {
    "id": "681a95mZnOSa"
   },
   "outputs": [],
   "source": [
    "import turtle\n",
    "import time\n",
    "import math\n",
    "\n",
    "def fractal_steps(fractal, distance, max_depth, doneTurtle = False):\n",
    "    turtle.speed(0)\n",
    "    for i in range(1, max_depth + 1):\n",
    "        turtle.reset()\n",
    "        turtle.speed(0)\n",
    "        start_time = time.time()\n",
    "        fractal(distance, i)\n",
    "        print(f\"Depth: {i} - {round(time.time() - start_time)}s\")\n",
    "    if doneTurtle: turtle.done()\n",
    "    #screen = turtle.Screen()\n",
    "    #screen.exitonclick() "
   ]
  },
  {
   "cell_type": "code",
   "execution_count": 126,
   "metadata": {},
   "outputs": [
    {
     "name": "stdout",
     "output_type": "stream",
     "text": [
      "Depth: 1 - 0s\n",
      "Depth: 2 - 0s\n",
      "Depth: 3 - 2s\n",
      "Depth: 4 - 8s\n"
     ]
    }
   ],
   "source": [
    "#Кривая Коха\n",
    "\n",
    "def koch_curve(distance, depth):\n",
    "    if depth == 0:        \n",
    "        turtle.forward(distance)\n",
    "        return                  \n",
    "    koch_curve(distance/3, depth-1)\n",
    "    turtle.left(60)\n",
    "    koch_curve(distance/3, depth-1)\n",
    "    turtle.right(120)\n",
    "    koch_curve(distance/3, depth-1)\n",
    "    turtle.left(60)\n",
    "    koch_curve(distance/3, depth-1)\n",
    "\n",
    "distance = 400\n",
    "depth = 4\n",
    "\n",
    "#start_time = time.time()\n",
    "#turtle.speed(0)\n",
    "#koch_curve(distance, depth)\n",
    "fractal_steps(koch_curve, distance, depth)\n",
    "#print(\"--- {0} ms ---\".format(round((time.time() - start_time)*1000)))\n",
    "\n",
    "#screen = turtle.Screen()\n",
    "#screen.exitonclick() "
   ]
  },
  {
   "attachments": {
    "image.png": {
     "image/png": "[encoded data removed]"
    }
   },
   "cell_type": "markdown",
   "metadata": {},
   "source": [
    "![image.png](attachment:image.png)"
   ]
  },
  {
   "cell_type": "code",
   "execution_count": 128,
   "metadata": {},
   "outputs": [
    {
     "name": "stdout",
     "output_type": "stream",
     "text": [
      "Depth: 1 - 0s\n",
      "Depth: 2 - 1s\n",
      "Depth: 3 - 2s\n",
      "Depth: 4 - 9s\n"
     ]
    }
   ],
   "source": [
    "#Кривая Гильберта\n",
    "\n",
    "def hilbert_curve(distance, depth, angle=90):\n",
    "    \n",
    "    if depth == 0:\n",
    "        return\n",
    "  \n",
    "    turtle.left(angle)\n",
    "    hilbert_curve(distance, depth-1, -angle)\n",
    "  \n",
    "    turtle.forward(distance)\n",
    "    turtle.right(angle)\n",
    "    hilbert_curve(distance, depth-1, angle)\n",
    "  \n",
    "    turtle.forward(distance)\n",
    "    hilbert_curve(distance, depth-1, angle)\n",
    "\n",
    "    turtle.right(angle)\n",
    "    turtle.forward(distance)\n",
    "    hilbert_curve(distance, depth-1, -angle)\n",
    "    turtle.left(angle)\n",
    "\n",
    "distance = 400\n",
    "depth = 4\n",
    "\n",
    "#hilbert_curve(distance/(2**depth), depth, 90)\n",
    "\n",
    "fractal_steps(hilbert_curve, distance, depth)"
   ]
  },
  {
   "attachments": {
    "image.png": {
     "image/png": "[encoded data removed]"
    }
   },
   "cell_type": "markdown",
   "metadata": {},
   "source": [
    "![image.png](attachment:image.png)"
   ]
  },
  {
   "cell_type": "code",
   "execution_count": 129,
   "metadata": {},
   "outputs": [
    {
     "name": "stdout",
     "output_type": "stream",
     "text": [
      "Depth: 1 - 1s\n",
      "Depth: 2 - 2s\n",
      "Depth: 3 - 8s\n",
      "Depth: 4 - 32s\n"
     ]
    }
   ],
   "source": [
    "#Кривая Серпинского\n",
    "\n",
    "def half_sierpinski(distance, depth):\n",
    "    if depth == 0: \n",
    "        turtle.forward(distance)\n",
    "        return\n",
    "    half_sierpinski(distance, depth - 1)\n",
    "    turtle.left(45)\n",
    "    turtle.forward(distance*math.sqrt(2)) \n",
    "    turtle.left(45)\n",
    "    half_sierpinski(distance, depth - 1)\n",
    "    turtle.right(90)\n",
    "    turtle.forward(distance)\n",
    "    turtle.right(90)\n",
    "    half_sierpinski(distance, depth - 1)\n",
    "    turtle.left(45)\n",
    "    turtle.forward(distance*math.sqrt(2)) \n",
    "    turtle.left(45)\n",
    "    half_sierpinski(distance, depth - 1)\n",
    "\n",
    "def sierpinski_curve(distance, depth):\n",
    "    #turtle.right(45)\n",
    "    half_sierpinski(distance, depth)\n",
    "    turtle.right(90)\n",
    "    turtle.forward(distance)\n",
    "    turtle.right(90)\n",
    "    half_sierpinski(distance, depth)\n",
    "    turtle.right(90)\n",
    "    turtle.forward(distance)\n",
    "    turtle.right(90)\n",
    "    \n",
    "distance = 10\n",
    "depth = 4\n",
    "\n",
    "#sierpinski_curve(distance, depth)\n",
    "\n",
    "fractal_steps(sierpinski_curve, distance, depth)"
   ]
  },
  {
   "attachments": {
    "image.png": {
     "image/png": "[encoded data removed]"
    }
   },
   "cell_type": "markdown",
   "metadata": {},
   "source": [
    "![image.png](attachment:image.png)"
   ]
  },
  {
   "cell_type": "code",
   "execution_count": 130,
   "metadata": {},
   "outputs": [
    {
     "name": "stdout",
     "output_type": "stream",
     "text": [
      "Depth: 1 - 0s\n",
      "Depth: 2 - 1s\n",
      "Depth: 3 - 4s\n",
      "Depth: 4 - 13s\n"
     ]
    }
   ],
   "source": [
    "#Салфетка Серпинского / Треугольник\n",
    "\n",
    "def sierpinski_triangle(distance,depth):\n",
    "    if depth==0:\n",
    "        for i in range(0,3):\n",
    "            turtle.forward(distance)\n",
    "            turtle.left(120)\n",
    "    else:\n",
    "        sierpinski_triangle(distance/2,depth-1)\n",
    "        turtle.forward(distance/2)\n",
    "        sierpinski_triangle(distance/2,depth-1)\n",
    "        turtle.backward(distance/2)\n",
    "        turtle.left(60)\n",
    "        turtle.forward(distance/2)\n",
    "        turtle.right(60)\n",
    "        sierpinski_triangle(distance/2,depth-1)\n",
    "        turtle.left(60)\n",
    "        turtle.backward(distance/2)\n",
    "        turtle.right(60)    \n",
    "\n",
    "distance = 500\n",
    "depth = 4\n",
    "\n",
    "turtle.speed(0)\n",
    "start_time = time.time()\n",
    "#sierpinski_triangle(distance, depth)\n",
    "\n",
    "fractal_steps(sierpinski_triangle, distance, depth)\n"
   ]
  },
  {
   "attachments": {
    "image.png": {
     "image/png": "[encoded data removed]"
    }
   },
   "cell_type": "markdown",
   "metadata": {},
   "source": [
    "![image.png](attachment:image.png)"
   ]
  },
  {
   "cell_type": "code",
   "execution_count": 131,
   "metadata": {},
   "outputs": [
    {
     "name": "stdout",
     "output_type": "stream",
     "text": [
      "Depth: 1 - 0s\n",
      "Depth: 2 - 3s\n",
      "Depth: 3 - 21s\n"
     ]
    }
   ],
   "source": [
    "#Ковер Серпинского\n",
    "\n",
    "def sierpinski_carpet(distance, depth):\n",
    "    if depth == 0: return\n",
    "    if depth == 1: turtle.begin_fill()\n",
    "    for i in range(4):\n",
    "        for i in range(2):\n",
    "            sierpinski_carpet(distance / 3, depth - 1)\n",
    "            turtle.forward(distance)\n",
    "        turtle.forward(distance)\n",
    "        turtle.right(90)\n",
    "    if depth == 1: turtle.end_fill()\n",
    "        \n",
    "distance = 70\n",
    "depth = 3\n",
    "\n",
    "#sierpinski_carpet(distance, depth)\n",
    "fractal_steps(sierpinski_carpet, distance, depth)\n"
   ]
  },
  {
   "attachments": {
    "image-2.png": {
     "image/png": "[encoded data removed]"
    }
   },
   "cell_type": "markdown",
   "metadata": {},
   "source": [
    "![image-2.png](attachment:image-2.png)"
   ]
  },
  {
   "cell_type": "code",
   "execution_count": 134,
   "metadata": {},
   "outputs": [
    {
     "name": "stdout",
     "output_type": "stream",
     "text": [
      "Depth: 1 - 0s\n",
      "Depth: 2 - 0s\n",
      "Depth: 3 - 1s\n",
      "Depth: 4 - 2s\n",
      "Depth: 5 - 4s\n"
     ]
    }
   ],
   "source": [
    "#Дерево Пифагора\n",
    "\n",
    "def pythagoras_tree_iter(distance, depth, dir = 1):\n",
    "    if depth == 0: return\n",
    "    next_dist = math.sqrt((distance ** 2) / 2) \n",
    "    turtle.forward(distance)\n",
    "    if depth > 1:\n",
    "        turtle.left(45 * dir)\n",
    "        pythagoras_tree_iter(next_dist, depth - 1, dir)\n",
    "        turtle.left(135 * dir)\n",
    "        turtle.forward(distance)\n",
    "        turtle.left(45 * dir)\n",
    "        pythagoras_tree_iter(next_dist, depth - 1, -dir)\n",
    "        turtle.right(45 * dir)\n",
    "        turtle.forward(distance)\n",
    "    else:\n",
    "        turtle.right(90 * dir)\n",
    "        turtle.forward(distance)\n",
    "        turtle.right(90 * dir)\n",
    "        turtle.forward(distance)\n",
    "    turtle.right(90 * dir)\n",
    "    turtle.forward(distance)\n",
    "\n",
    "\n",
    "def pythagoras_tree(distance, depth):\n",
    "    turtle.left(90)\n",
    "    pythagoras_tree_iter(distance, depth)\n",
    "    \n",
    "distance = 120\n",
    "depth = 5\n",
    "\n",
    "#pythagoras_tree(distance, depth)\n",
    "fractal_steps(pythagoras_tree, distance, depth)\n"
   ]
  },
  {
   "attachments": {
    "image.png": {
     "image/png": "[encoded data removed]"
    }
   },
   "cell_type": "markdown",
   "metadata": {},
   "source": [
    "![image.png](attachment:image.png)"
   ]
  },
  {
   "cell_type": "markdown",
   "metadata": {
    "id": "diOb-K7LnO5a"
   },
   "source": [
    "### Вывод"
   ]
  },
  {
   "cell_type": "markdown",
   "metadata": {},
   "source": [
    "Реализованы генерации 6 фракталов"
   ]
  }
 ],
 "metadata": {
  "colab": {
   "collapsed_sections": [],
   "name": "Lab5.ipynb",
   "provenance": []
  },
  "kernelspec": {
   "display_name": "Python 3 (ipykernel)",
   "language": "python",
   "name": "python3"
  },
  "language_info": {
   "codemirror_mode": {
    "name": "ipython",
    "version": 3
   },
   "file_extension": ".py",
   "mimetype": "text/x-python",
   "name": "python",
   "nbconvert_exporter": "python",
   "pygments_lexer": "ipython3",
   "version": "3.9.7"
  }
 },
 "nbformat": 4,
 "nbformat_minor": 1
}
