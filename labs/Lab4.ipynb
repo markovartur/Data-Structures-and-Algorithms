{
 "cells": [
  {
   "cell_type": "markdown",
   "id": "fifteen-sailing",
   "metadata": {},
   "source": [
    "# Лабораторная работа №4\n",
    "## Выполнил студент группы БФИ2001 Марков Артур"
   ]
  },
  {
   "cell_type": "markdown",
   "id": "arctic-stocks",
   "metadata": {},
   "source": [
    "Реализовать следующие структуры данных:\n",
    "  \n",
    "● <b> Стек (stack): </b>  \n",
    "Операции для стека: \n",
    "<i> инициализация, проверка на пустоту, добавление нового элемента в начало, извлечение элемента из начала;  </i>  \n",
    "  \n",
    "● <b> Дек (двусторонняя очередь, deque):  </b>  \n",
    "Операции для дека: \n",
    "<i> инициализация, проверка на пустоту, добавление нового элемента в начало, добавление нового элемента в конец, извлечение элемента из начала, извлечение элемента из конца. </i>  \n",
    "  \n",
    "<i> Разработать программу обработки данных, содержащихся в заранее подготовленном txt-файле, в соответствии с заданиями, применив указанную в задании структуру данных. Результат работы программы вывести на экран и сохранить в отдельном txt-файле. </i>"
   ]
  },
  {
   "cell_type": "code",
   "execution_count": 14,
   "id": "61f6940d",
   "metadata": {},
   "outputs": [],
   "source": [
    "#stack\n",
    "        \n",
    "class Stack:\n",
    "    def __init__(self):\n",
    "        self.items = []\n",
    "        \n",
    "    def is_empty(self):\n",
    "        return self.items == []\n",
    "    \n",
    "    def push(self, value):\n",
    "        self.items.insert(0,value)\n",
    "        \n",
    "    def pop(self):\n",
    "        if self.is_empty():\n",
    "            return None\n",
    "        return self.items.pop(0)\n",
    "    \n",
    "    def top(self): # get_back\n",
    "        return self.items[len(self.items) - 1]\n",
    "    \n",
    "    def size(self):\n",
    "        return len(self.items)\n"
   ]
  },
  {
   "cell_type": "code",
   "execution_count": 2,
   "id": "663943db",
   "metadata": {},
   "outputs": [],
   "source": [
    "#deque\n",
    "class Deque:\n",
    "    def __init__(self):\n",
    "        self.items = []\n",
    "\n",
    "    def is_empty(self):\n",
    "        return self.items == []\n",
    "    \n",
    "###\n",
    "    def push_front(self, value):\n",
    "        self.items.insert(0, value)\n",
    "        \n",
    "    def get_front(self):\n",
    "        if self.is_empty():\n",
    "            return None\n",
    "        return self.items[0]\n",
    "    \n",
    "    def pop_front(self):\n",
    "        if self.is_empty():\n",
    "            return None\n",
    "        return self.items.pop(0)\n",
    "    \n",
    "###\n",
    "    def push_back(self, value):\n",
    "        self.items.append(value)\n",
    "\n",
    "    def get_back(self):\n",
    "        if self.is_empty():\n",
    "            return None\n",
    "        return self.items[-1]\n",
    "    \n",
    "    def pop_back(self):\n",
    "        if self.is_empty():\n",
    "            return None\n",
    "        return self.items.pop(-1)\n",
    "    \n",
    "###\n",
    "    def size(self):\n",
    "        return len(self.items)\n",
    "    "
   ]
  },
  {
   "cell_type": "markdown",
   "id": "5d7edb08",
   "metadata": {
    "scrolled": true
   },
   "source": [
    "### Задание №1\n",
    "Отсортировать строки файла, содержащие названия книг, в алфавитном порядке с использованием двух деков."
   ]
  },
  {
   "cell_type": "code",
   "execution_count": 87,
   "id": "17702ade",
   "metadata": {},
   "outputs": [
    {
     "name": "stdout",
     "output_type": "stream",
     "text": [
      "---------Ввод:---------\n",
      "Hamlet\n",
      "Cat's cradle\n",
      "Faust\n",
      "Der Zauberberg\n",
      "---------Вывод:---------\n",
      "Cat's cradle\n",
      "Der Zauberberg\n",
      "Faust\n",
      "Hamlet\n"
     ]
    }
   ],
   "source": [
    "deq1 = Deque()\n",
    "\n",
    "print(\"---------Ввод:---------\")\n",
    "file = open(r\"C:\\Users\\User\\Desktop\\siaod\\lab4txt\\1in.txt\")\n",
    "print(file.read())\n",
    "file.close()\n",
    "\n",
    "with open(r\"C:\\Users\\User\\Desktop\\siaod\\lab4txt\\1in.txt\") as file:\n",
    "    for item in file:\n",
    "        item = item.replace(\"\\n\", \"\")\n",
    "        deq1.push_back(item)\n",
    "file.close()\n",
    "\n",
    "\n",
    "\n",
    "flag = False\n",
    "deq2 = Deque()\n",
    "deq2.push_front(deq1.pop_front())\n",
    "\n",
    "while (not deq1.is_empty()):\n",
    "    current = deq1.pop_front()\n",
    "   \n",
    "    if deq2.get_back()[0] <= current[0]:\n",
    "        deq2.push_back(current)\n",
    "    else:\n",
    "        deq2.push_front(current)\n",
    "        flag = True\n",
    "        \n",
    "    if(flag == True and deq1.is_empty()):\n",
    "        deq1, deq2 = deq2, Deque()\n",
    "        deq2.push_front(deq1.pop_front())\n",
    "        flag = False\n",
    "        \n",
    "#print(\"---------Сортировка:---------\",\"\\n\", deq2.items)\n",
    "\n",
    "\n",
    "\n",
    "def record_in_txt(deq):\n",
    "    print(\"---------Вывод:---------\")\n",
    "    file = open(r\"C:\\Users\\User\\Desktop\\siaod\\lab4txt\\1out.txt\", 'w', encoding='utf-8')\n",
    "    k = deq2.size()\n",
    "    for i in range(k):\n",
    "        pop_element = deq2.pop_front()\n",
    "        print(pop_element)\n",
    "        file.write(pop_element + '\\n')\n",
    "    file.close()\n",
    "\n",
    "record_in_txt(deq2)"
   ]
  },
  {
   "cell_type": "markdown",
   "id": "49fbd2a0",
   "metadata": {},
   "source": [
    "### Задание №2\n",
    "Дек содержит последовательность символов для шифровки сообщений. Дан текстовый файл, содержащий зашифрованное сообщение. Пользуясь деком, расшифровать текст. \n",
    "Известно, что при шифровке каждый символ сообщения заменялся следующим за ним в деке по часовой стрелке через один."
   ]
  },
  {
   "cell_type": "code",
   "execution_count": null,
   "id": "44604dcc",
   "metadata": {},
   "outputs": [],
   "source": []
  },
  {
   "cell_type": "markdown",
   "id": "c0894f47",
   "metadata": {},
   "source": [
    "### Задание №3\n",
    "Даны три стержня и n дисков различного размера. Диски можно надевать на стержни, образуя из них башни. Перенести n дисков со стержня А на стержень С, сохранив их первоначальный порядок. При переносе дисков необходимо соблюдать следующие правила:\n",
    "- на каждом шаге со стержня на стержень переносить только один диск;\n",
    "- диск нельзя помещать на диск меньшего размера;\n",
    "- для промежуточного хранения можно использовать стержень В.\n",
    "Реализовать алгоритм, используя три стека вместо стержней А, В, С. Информация о дисках хранится в исходном файле."
   ]
  },
  {
   "cell_type": "code",
   "execution_count": null,
   "id": "9e91a9d4",
   "metadata": {},
   "outputs": [],
   "source": []
  },
  {
   "cell_type": "markdown",
   "id": "e5b0be17",
   "metadata": {},
   "source": [
    "### Задание №4\n",
    "Дан текстовый файл с программой на алгоритмическом языке. За один просмотр файла проверить баланс круглых скобок в тексте, используя стек."
   ]
  },
  {
   "cell_type": "code",
   "execution_count": 113,
   "id": "1ac10df8",
   "metadata": {},
   "outputs": [
    {
     "name": "stdout",
     "output_type": "stream",
     "text": [
      "Ввод: \n",
      " ())\n",
      "Вывод: \n",
      " False\n"
     ]
    }
   ],
   "source": [
    "def bracket_balance_round():\n",
    "    stack = Stack()\n",
    "    flag = False    \n",
    "    with open(r\"C:\\Users\\User\\Desktop\\siaod\\lab4txt\\4in.txt\") as file:\n",
    "        text=file.read()\n",
    "        print(\"Ввод:\",\"\\n\", text)\n",
    "        for i in range(len(text)):\n",
    "            if text[i] == '(':\n",
    "                stack.push(text[i])\n",
    "            elif text[i] == ')' and not stack.is_empty():\n",
    "                stack.pop()\n",
    "            elif text[i] == ')' and stack.is_empty():\n",
    "                return flag\n",
    "            elif not stack.is_empty() and i==len(text)-1:\n",
    "                return flag\n",
    "            i += 1\n",
    "        flag = True\n",
    "        return flag\n",
    "    file.close()\n",
    "\n",
    "print(\"Вывод:\",\"\\n\",bracket_balance_round())\n",
    "file = open(r\"C:\\Users\\User\\Desktop\\siaod\\lab4txt\\4out.txt\", 'w', encoding='utf-8')\n",
    "file.write(\"True\" if flag else \"False\")\n",
    "file.close()"
   ]
  },
  {
   "cell_type": "markdown",
   "id": "c44cdd6b",
   "metadata": {},
   "source": [
    "### Задание №5\n",
    "Дан текстовый файл с программой на алгоритмическом языке. За один просмотр файла проверить баланс квадратных скобок в тексте, используя дек."
   ]
  },
  {
   "cell_type": "code",
   "execution_count": 162,
   "id": "36b8f400",
   "metadata": {},
   "outputs": [
    {
     "name": "stdout",
     "output_type": "stream",
     "text": [
      "Ввод: \n",
      " [[[]]]\n",
      "Вывод: \n",
      " True\n"
     ]
    }
   ],
   "source": [
    "def bracket_balance_square():\n",
    "    deq = Deque()\n",
    "    flag = False    \n",
    "    with open(r\"C:\\Users\\User\\Desktop\\siaod\\lab4txt\\5in.txt\") as file:\n",
    "        text=file.read()\n",
    "        print(\"Ввод:\",\"\\n\", text)\n",
    "        for i in range(len(text)):\n",
    "            if text[i] == '[':\n",
    "                deq.push_back(text[i])\n",
    "            elif text[i] == ']' and not deq.is_empty():\n",
    "                deq.pop_back()\n",
    "            elif text[i] == ']' and deq.is_empty():\n",
    "                return flag\n",
    "            elif not deq.is_empty() and i==len(text)-1:\n",
    "                return flag\n",
    "            i += 1\n",
    "        flag = True\n",
    "        return flag\n",
    "\n",
    "print(\"Вывод:\",\"\\n\",bracket_balance_square())\n",
    "file = open(r\"C:\\Users\\User\\Desktop\\siaod\\lab4txt\\5out.txt\", 'w', encoding='utf-8')\n",
    "file.write(\"True\" if flag else \"False\")\n",
    "file.close()"
   ]
  },
  {
   "cell_type": "markdown",
   "id": "59d13dc7",
   "metadata": {},
   "source": [
    "### Задание №6\n",
    "Дан файл из символов. Используя стек, за один просмотр файла напечатать сначала все цифры, затем все буквы, и, наконец, все остальные символы, сохраняя исходный порядок в каждой группе символов."
   ]
  },
  {
   "cell_type": "code",
   "execution_count": null,
   "id": "297e36c2",
   "metadata": {},
   "outputs": [],
   "source": []
  },
  {
   "cell_type": "markdown",
   "id": "973f68bd",
   "metadata": {},
   "source": [
    "### Задание №7\n",
    "Дан файл из целых чисел. Используя дек, за один просмотр файла напечатать сначала все отрицательные числа, затем все положительные числа, сохраняя исходный порядок в каждой группе."
   ]
  },
  {
   "cell_type": "code",
   "execution_count": null,
   "id": "c56fad66",
   "metadata": {},
   "outputs": [],
   "source": []
  },
  {
   "cell_type": "markdown",
   "id": "b9228191",
   "metadata": {},
   "source": [
    "### Задание №8\n",
    "Дан текстовый файл. Используя стек, сформировать новый текстовый файл, содержащий строки исходного файла, записанные в обратном порядке: первая строка становится последней, вторая – предпоследней и т.д."
   ]
  },
  {
   "cell_type": "code",
   "execution_count": 150,
   "id": "53d5892a",
   "metadata": {},
   "outputs": [
    {
     "name": "stdout",
     "output_type": "stream",
     "text": [
      "Ввод: \n",
      " 1 line\n",
      "2 line\n",
      "3 text\n",
      "4 line\n"
     ]
    }
   ],
   "source": [
    "stack = Stack()\n",
    "file = open(r\"C:\\Users\\User\\Desktop\\siaod\\lab4txt\\8in.txt\")\n",
    "text = file.read()\n",
    "print(\"Ввод:\",\"\\n\", text)\n",
    "file.close()\n",
    "\n",
    "with open(r\"C:\\Users\\User\\Desktop\\siaod\\lab4txt\\8in.txt\") as file:\n",
    "    for line in file:\n",
    "        if line[-1] != '\\n':\n",
    "            line = line + '\\n'\n",
    "        stack.push(line)\n",
    "    file.close()\n",
    "with open(r\"C:\\Users\\User\\Desktop\\siaod\\lab4txt\\8out.txt\",\"w\", encoding=\"utf-8\") as file:\n",
    "    while not stack.is_empty():\n",
    "        file.write(stack.pop())\n",
    "    file.close()"
   ]
  },
  {
   "cell_type": "markdown",
   "id": "rental-jerusalem",
   "metadata": {},
   "source": [
    "### Вывод\n"
   ]
  },
  {
   "cell_type": "markdown",
   "id": "0c2b8899",
   "metadata": {},
   "source": []
  }
 ],
 "metadata": {
  "kernelspec": {
   "display_name": "Python 3 (ipykernel)",
   "language": "python",
   "name": "python3"
  },
  "language_info": {
   "codemirror_mode": {
    "name": "ipython",
    "version": 3
   },
   "file_extension": ".py",
   "mimetype": "text/x-python",
   "name": "python",
   "nbconvert_exporter": "python",
   "pygments_lexer": "ipython3",
   "version": "3.9.7"
  }
 },
 "nbformat": 4,
 "nbformat_minor": 5
}
