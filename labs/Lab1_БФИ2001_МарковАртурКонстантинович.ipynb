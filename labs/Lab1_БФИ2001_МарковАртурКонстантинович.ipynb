{
 "cells": [
  {
   "cell_type": "markdown",
   "id": "fifteen-sailing",
   "metadata": {},
   "source": [
    "# Лабораторная работа №1\n",
    "## Выполнил студент группы БФИ2001 Марков Артур Константинович"
   ]
  },
  {
   "cell_type": "markdown",
   "id": "particular-syndicate",
   "metadata": {},
   "source": [
    "### Оглавление\n",
    "1. [Задание 1](#Задание-№1)\n",
    "2. [Задание 2](#Задание-№2)\n",
    "3. [Задание 3](#Задание-№3)\n",
    "4. [Вывод](#Вывод)"
   ]
  },
  {
   "cell_type": "markdown",
   "id": "arctic-stocks",
   "metadata": {},
   "source": [
    "### Задание №1\n",
    "<i> Вызвать функцию print() и передать туда строку Hello, World! </i>"
   ]
  },
  {
   "cell_type": "code",
   "execution_count": 1,
   "id": "caring-truck",
   "metadata": {
    "scrolled": true
   },
   "outputs": [
    {
     "name": "stdout",
     "output_type": "stream",
     "text": [
      "Hello, World!\n"
     ]
    }
   ],
   "source": [
    "print(\"Hello, World!\")"
   ]
  },
  {
   "cell_type": "markdown",
   "id": "maritime-conversation",
   "metadata": {},
   "source": [
    "### Задание №2\n",
    "Написать генератор случайных матриц(многомерных), который принимает\n",
    "опциональные параметры <b>m</b>, <b>n</b>, <b>min_limit</b>, <b>max_limit</b>, где <b>m</b> и <b>n</b> указывают размер\n",
    "матрицы, а <b>min_lim</b> и <b>max_lim</b> - минимальное и максимальное значение для\n",
    "генерируемого числа."
   ]
  },
  {
   "cell_type": "code",
   "execution_count": 1,
   "id": "built-contact",
   "metadata": {},
   "outputs": [],
   "source": [
    "import random\n",
    "import time"
   ]
  },
  {
   "cell_type": "code",
   "execution_count": 12,
   "id": "alert-charm",
   "metadata": {
    "scrolled": true
   },
   "outputs": [
    {
     "name": "stdout",
     "output_type": "stream",
     "text": [
      "3\n",
      "8\n",
      "[151, 373, 419, 566, -130, 287, 53]\n",
      "[671, 36, 836, 50, 408, 238, 957]\n",
      "[295, 408, 783, 299, -155, 928, 464]\n",
      "--- 0 ms ---\n"
     ]
    }
   ],
   "source": [
    "#import random\n",
    "#import time\n",
    "\n",
    "user_m = int(input())\n",
    "user_n = int(input())\n",
    "#user_variant = 14\n",
    "user_min_limit = -250 #input()\n",
    "user_max_limit = 1014 #input()\n",
    "\n",
    "start_time = time.time()\n",
    "def random_array_generator(user_m, user_n, user_min_limit, user_max_limit):\n",
    "    array = []\n",
    "    for x in range(user_m):\n",
    "        row = []\n",
    "        for y in range(user_n):\n",
    "            row.append(random.randrange(user_min_limit, user_max_limit))\n",
    "        array.append(row)\n",
    "        #print(row)\n",
    "    #print(\"--- {0} ms ---\".format(round((time.time() - start_time)*1000)))\n",
    "    return array\n",
    "\n",
    "for k in range(int(user_m)):\n",
    "    print(source_array[k])\n",
    "\n",
    "\n",
    "print(\"--- {0} ms ---\".format(round((time.time() - start_time)*1000)))\n",
    "#random_array_generator(user_m, user_n, user_min_limit, user_max_limit)\n",
    "#print(source_array(user_m, user_n, user_min_limit, user_max_limit))"
   ]
  },
  {
   "cell_type": "markdown",
   "id": "catholic-roots",
   "metadata": {},
   "source": [
    "### Задание №3\n",
    "Реализовать методы сортировки строк числовой матрицы в соответствии с\n",
    "заданием. Оценить время работы каждого алгоритма сортировки и сравнить его со\n",
    "временем стандартной функции сортировки. Испытания проводить на сгенерированных\n",
    "матрицах."
   ]
  },
  {
   "cell_type": "code",
   "execution_count": 5,
   "id": "1a2006d2",
   "metadata": {},
   "outputs": [],
   "source": [
    "import copy"
   ]
  },
  {
   "cell_type": "code",
   "execution_count": 16,
   "id": "cleared-anniversary",
   "metadata": {},
   "outputs": [
    {
     "name": "stdout",
     "output_type": "stream",
     "text": [
      "Исходная матрица\n",
      "[-132, 914, 49, 323, 407, 754, 359, -22]\n",
      "[-94, 664, 922, 691, 87, -13, 644, 770]\n",
      "[525, 299, -171, 829, 111, 1013, 990, 732]\n",
      "Отсортированная матрица\n",
      "[-132, 49, 914, 323, 407, 754, 359, -22]\n",
      "[-94, 664, 922, 691, 87, -13, 644, 770]\n",
      "[-171, 299, 525, 829, 111, 1013, 990, 732]\n",
      "--- 1 ms ---\n"
     ]
    }
   ],
   "source": [
    "# Сортировка выбором.\n",
    "# Берётся срез массива, в котором минимальный элемент переносят в самый левый угол,\n",
    "# после чего срез уменьшается и цикл повторяется.\n",
    "source_array = random_array_generator(user_m, user_n, user_min_limit, user_max_limit)\n",
    "N=len(source_array)\n",
    "selection_sort_array=copy.deepcopy(source_array)\n",
    "\n",
    "start_time = time.time()\n",
    "def selection_sort(arr):\n",
    "    for i in range(0, user_n - 1):#while i < N-1:\n",
    "        m=i\n",
    "        for j in range(i + 1, len(source_array)):#while j<N:\n",
    "            if (arr[j]<arr[i]):\n",
    "                m=j\n",
    "            #j+=1\n",
    "        arr[i], arr[m] = arr[m], arr[i]\n",
    "    #i+=1\n",
    "    return(arr)\n",
    "\n",
    "print('Исходная матрица')\n",
    "for k in range(int(user_m)):\n",
    "    print(source_array[k])\n",
    "\n",
    "print('Отсортированная матрица')\n",
    "selection_sort_array = copy.deepcopy(source_array)\n",
    "for k in range(int(user_m)):\n",
    "    print(selection_sort(selection_sort_array[k]))\n",
    "\n",
    "print(\"--- {0} ms ---\".format(round((time.time() - start_time)*1000)))"
   ]
  },
  {
   "cell_type": "code",
   "execution_count": 19,
   "id": "roman-silly",
   "metadata": {
    "scrolled": true
   },
   "outputs": [
    {
     "name": "stdout",
     "output_type": "stream",
     "text": [
      "Исходная матрица\n",
      "[528, 824, -58, 416, 371, -237, 274, 390]\n",
      "[-236, 507, 1010, 916, 1009, 302, 134, 239]\n",
      "[-32, 374, 219, 281, 797, 647, 823, 636]\n",
      "Отсортированная матрица\n",
      "[-237, -58, 274, 371, 390, 416, 528, 824]\n",
      "[-236, 134, 239, 302, 507, 916, 1009, 1010]\n",
      "[-32, 219, 281, 374, 636, 647, 797, 823]\n",
      "--- 2 ms ---\n"
     ]
    }
   ],
   "source": [
    "# Сортировка вставкой.\n",
    "source_array = random_array_generator(user_m, user_n, user_min_limit, user_max_limit)\n",
    "#print(source_array)\n",
    "start_time = time.time()\n",
    "def insertion_sort(arr):\n",
    "    for i in range(1, user_n):\n",
    "        temp = arr[i]\n",
    "        j = i - 1\n",
    "        while (j >= 0 and temp < arr[j]):\n",
    "            arr[j + 1] = arr[j]\n",
    "            j = j - 1\n",
    "        arr[j + 1] = temp\n",
    "    return arr\n",
    "\n",
    "print('Исходная матрица')\n",
    "for k in range(int(user_m)):\n",
    "    print(source_array[k])\n",
    "\n",
    "print('Отсортированная матрица')\n",
    "insertion_sort_array = copy.deepcopy(source_array)\n",
    "for k in range(int(user_m)):\n",
    "    print(insertion_sort(insertion_sort_array[k]))\n",
    "    \n",
    "print(\"--- {0} ms ---\".format(round((time.time() - start_time)*1000)))"
   ]
  },
  {
   "cell_type": "code",
   "execution_count": 18,
   "id": "vital-implementation",
   "metadata": {},
   "outputs": [
    {
     "name": "stdout",
     "output_type": "stream",
     "text": [
      "Исходная матрица\n",
      "[-222, 655, 409, 999, 416, 8, 855, 34]\n",
      "[226, -214, 662, 367, 839, 320, 188, 108]\n",
      "[936, 398, 954, 885, 107, 240, 571, 485]\n",
      "Отсортированная матрица\n",
      "[-222, 8, 34, 409, 416, 655, 855, 999]\n",
      "[-214, 108, 188, 226, 320, 367, 662, 839]\n",
      "[107, 240, 398, 485, 571, 885, 936, 954]\n",
      "--- 0 ms ---\n"
     ]
    }
   ],
   "source": [
    "# Сортировка обменом. || Сортировка пузырьком.\n",
    "source_array = random_array_generator(user_m, user_n, user_min_limit, user_max_limit)\n",
    "start_time = time.time()\n",
    "def bubble_sort(arr):\n",
    "        swapped = False\n",
    "        for i in range(user_n-1,0,-1):\n",
    "            for j in range(i):\n",
    "                if arr[j]>arr[j+1]:\n",
    "                    arr[j], arr[j+1] = arr[j+1], arr[j]\n",
    "                    swapped = True\n",
    "            if swapped:\n",
    "                swapped = False\n",
    "            else:\n",
    "                break\n",
    "        return arr\n",
    "\n",
    "print('Исходная матрица')\n",
    "for k in range(int(user_m)):\n",
    "    print(source_array[k])\n",
    "\n",
    "print('Отсортированная матрица')\n",
    "bubble_sort_array = copy.deepcopy(source_array)\n",
    "for k in range(int(user_m)):\n",
    "    print(bubble_sort(bubble_sort_array[k]))\n",
    "    \n",
    "print(\"--- {0} ms ---\".format(round((time.time() - start_time)*1000)))"
   ]
  },
  {
   "cell_type": "code",
   "execution_count": 20,
   "id": "veterinary-glory",
   "metadata": {},
   "outputs": [
    {
     "name": "stdout",
     "output_type": "stream",
     "text": [
      "Исходная матрица\n",
      "[345, 774, 886, 851, 860, -77, 351, 111]\n",
      "[936, 285, 389, -146, -80, -3, 17, 469]\n",
      "[798, -40, 894, -167, -125, -149, -194, 348]\n",
      "Отсортированная матрица\n",
      "[-77, 111, 345, 351, 774, 851, 860, 886]\n",
      "[-146, -80, -3, 17, 285, 389, 469, 936]\n",
      "[-194, -167, -149, -125, -40, 348, 798, 894]\n",
      "--- 1 ms ---\n"
     ]
    }
   ],
   "source": [
    "# Сортировка Шелла.\n",
    "import math\n",
    "source_array = random_array_generator(user_m, user_n, user_min_limit, user_max_limit)\n",
    "start_time = time.time()\n",
    "#TODO\n",
    "def Shell_sort(arr):\n",
    "    p = int(math.log2(user_n))\n",
    "    interval = 2**p -1\n",
    "    while interval > 0:\n",
    "        for i in range(interval, user_n):\n",
    "            temp = arr[i]\n",
    "            j = i\n",
    "            while j >= interval and arr[j - interval] > temp:\n",
    "                arr[j] = arr[j - interval]\n",
    "                j -= interval\n",
    "            arr[j] = temp\n",
    "        p -= 1\n",
    "        interval = 2**p -1\n",
    "    return arr\n",
    "\n",
    "print('Исходная матрица')\n",
    "for k in range(int(user_m)):\n",
    "    print(source_array[k])\n",
    "\n",
    "print('Отсортированная матрица')\n",
    "Shell_sort_array = copy.deepcopy(source_array)\n",
    "for k in range(int(user_m)):\n",
    "    print(Shell_sort(Shell_sort_array[k]))\n",
    "    \n",
    "print(\"--- {0} ms ---\".format(round((time.time() - start_time)*1000)))"
   ]
  },
  {
   "cell_type": "code",
   "execution_count": 8,
   "id": "correct-chaos",
   "metadata": {},
   "outputs": [
    {
     "name": "stdout",
     "output_type": "stream",
     "text": [
      "--- 1 ms ---\n"
     ]
    }
   ],
   "source": [
    "# Быстрая сортировка.\n",
    "start_time = time.time()\n",
    "#TODO\n",
    "print(\"--- {0} ms ---\".format(round((time.time() - start_time)*1000)))\n",
    "    "
   ]
  },
  {
   "cell_type": "code",
   "execution_count": 9,
   "id": "french-czech",
   "metadata": {},
   "outputs": [
    {
     "name": "stdout",
     "output_type": "stream",
     "text": [
      "--- 0 ms ---\n"
     ]
    }
   ],
   "source": [
    "# Турнирная сортировка.\n",
    "start_time = time.time()\n",
    "#TODO\n",
    "print(\"--- {0} ms ---\".format(round((time.time() - start_time)*1000)))"
   ]
  },
  {
   "cell_type": "markdown",
   "id": "rental-jerusalem",
   "metadata": {},
   "source": [
    "### Вывод\n"
   ]
  },
  {
   "cell_type": "markdown",
   "id": "9d108a0a",
   "metadata": {},
   "source": []
  }
 ],
 "metadata": {
  "kernelspec": {
   "display_name": "Python 3 (ipykernel)",
   "language": "python",
   "name": "python3"
  },
  "language_info": {
   "codemirror_mode": {
    "name": "ipython",
    "version": 3
   },
   "file_extension": ".py",
   "mimetype": "text/x-python",
   "name": "python",
   "nbconvert_exporter": "python",
   "pygments_lexer": "ipython3",
   "version": "3.9.7"
  }
 },
 "nbformat": 4,
 "nbformat_minor": 5
}
