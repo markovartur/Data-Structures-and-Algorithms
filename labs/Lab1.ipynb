{
 "cells": [
  {
   "cell_type": "markdown",
   "id": "fifteen-sailing",
   "metadata": {},
   "source": [
    "# Лабораторная работа №1\n",
    "## Выполнил студент группы БФИ2001 Марков Артур Константинович"
   ]
  },
  {
   "cell_type": "markdown",
   "id": "particular-syndicate",
   "metadata": {},
   "source": [
    "### Оглавление\n",
    "1. [Задание 1](#Задание-№1)\n",
    "2. [Задание 2](#Задание-№2)\n",
    "3. [Задание 3](#Задание-№3)\n",
    "4. [Вывод](#Вывод)"
   ]
  },
  {
   "cell_type": "markdown",
   "id": "arctic-stocks",
   "metadata": {},
   "source": [
    "### Задание №1\n",
    "<i> Вызвать функцию print() и передать туда строку Hello, World! </i>"
   ]
  },
  {
   "cell_type": "code",
   "execution_count": 1,
   "id": "caring-truck",
   "metadata": {
    "scrolled": true
   },
   "outputs": [
    {
     "name": "stdout",
     "output_type": "stream",
     "text": [
      "Hello, World!\n"
     ]
    }
   ],
   "source": [
    "print(\"Hello, World!\")"
   ]
  },
  {
   "cell_type": "markdown",
   "id": "maritime-conversation",
   "metadata": {},
   "source": [
    "### Задание №2\n",
    "Написать генератор случайных матриц(многомерных), который принимает\n",
    "опциональные параметры <b>m</b>, <b>n</b>, <b>min_limit</b>, <b>max_limit</b>, где <b>m</b> и <b>n</b> указывают размер\n",
    "матрицы, а <b>min_lim</b> и <b>max_lim</b> - минимальное и максимальное значение для\n",
    "генерируемого числа."
   ]
  },
  {
   "cell_type": "code",
   "execution_count": 1,
   "id": "built-contact",
   "metadata": {},
   "outputs": [],
   "source": [
    "import random\n",
    "import time"
   ]
  },
  {
   "cell_type": "code",
   "execution_count": 53,
   "id": "alert-charm",
   "metadata": {
    "scrolled": true
   },
   "outputs": [
    {
     "name": "stdout",
     "output_type": "stream",
     "text": [
      "3\n",
      "8\n",
      "[884, -202, 481, 59, 757, -24, 301, 933]\n",
      "[802, 274, 898, 898, 115, -177, 727, -225]\n",
      "[717, -179, 2, 27, 996, -15, 143, 973]\n",
      "--- 0.000 ms ---\n",
      "[[884, -202, 481, 59, 757, -24, 301, 933], [802, 274, 898, 898, 115, -177, 727, -225], [717, -179, 2, 27, 996, -15, 143, 973]]\n"
     ]
    }
   ],
   "source": [
    "# import random\n",
    "# import time\n",
    "\n",
    "user_m = int(input())\n",
    "user_n = int(input())\n",
    "#user_variant = 14\n",
    "user_min_limit = -250 #input()\n",
    "user_max_limit = 1014 #input()\n",
    "#user_m, user_n, user_min_limit, user_max_limit\n",
    "def random_array_generator(user_m, user_n, user_min_limit, user_max_limit):\n",
    "    array = []\n",
    "    start_time = time.time()\n",
    "    for x in range(user_m):\n",
    "        row = []\n",
    "        for y in range(user_n):\n",
    "            row.append(random.randrange(user_min_limit, user_max_limit))\n",
    "        array.append(row)\n",
    "        print(row)\n",
    "    print(\"--- {:.3f} ms ---\".format(round((time.time() - start_time)*1000)))\n",
    "    return array\n",
    "print(random_array_generator(user_m, user_n, user_min_limit, user_max_limit))\n"
   ]
  },
  {
   "cell_type": "markdown",
   "id": "catholic-roots",
   "metadata": {},
   "source": [
    "### Задание №3\n",
    "Реализовать методы сортировки строк числовой матрицы в соответствии с\n",
    "заданием. Оценить время работы каждого алгоритма сортировки и сравнить его со\n",
    "временем стандартной функции сортировки. Испытания проводить на сгенерированных\n",
    "матрицах."
   ]
  },
  {
   "cell_type": "code",
   "execution_count": 5,
   "id": "1a2006d2",
   "metadata": {},
   "outputs": [],
   "source": [
    "import copy"
   ]
  },
  {
   "cell_type": "code",
   "execution_count": 54,
   "id": "cleared-anniversary",
   "metadata": {},
   "outputs": [
    {
     "name": "stdout",
     "output_type": "stream",
     "text": [
      "[356, 63, 134, 981, 863, 863, 753, 676]\n",
      "[788, -235, -53, -247, -189, 983, 498, 71]\n",
      "[699, 615, -215, 572, 553, 539, 166, 975]\n",
      "--- 0.000 ms ---\n",
      "Исходная матрица\n",
      "[356, 63, 134, 981, 863, 863, 753, 676]\n",
      "[788, -235, -53, -247, -189, 983, 498, 71]\n",
      "[699, 615, -215, 572, 553, 539, 166, 975]\n",
      "Отсортированная матрица\n",
      "[134, 63, 356, 981, 863, 863, 753, 676]\n",
      "[-53, -235, 788, -247, -189, 983, 498, 71]\n",
      "[-215, 615, 699, 572, 553, 539, 166, 975]\n",
      "--- 2.000 ms ---\n"
     ]
    }
   ],
   "source": [
    "# Сортировка выбором.\n",
    "# Берётся срез массива, в котором минимальный элемент переносят в самый левый угол,\n",
    "# после чего срез уменьшается и цикл повторяется.\n",
    "source_array = random_array_generator(user_m, user_n, user_min_limit, user_max_limit)\n",
    "N=len(source_array)\n",
    "selection_sort_array=copy.deepcopy(source_array)\n",
    "\n",
    "start_time = time.time()\n",
    "def selection_sort(arr):\n",
    "    for i in range(0, user_n - 1):#while i < N-1:\n",
    "        m=i\n",
    "        for j in range(i + 1, len(source_array)):#while j<N:\n",
    "            if (arr[j]<arr[i]):\n",
    "                m=j\n",
    "            #j+=1\n",
    "        arr[i], arr[m] = arr[m], arr[i]\n",
    "    #i+=1\n",
    "    return(arr)\n",
    "\n",
    "print('Исходная матрица')\n",
    "for k in range(int(user_m)):\n",
    "    print(source_array[k])\n",
    "\n",
    "print('Отсортированная матрица')\n",
    "selection_sort_array = copy.deepcopy(source_array)\n",
    "for k in range(int(user_m)):\n",
    "    print(selection_sort(selection_sort_array[k]))\n",
    "\n",
    "time_selection_sort = round((time.time() - start_time)*1000)\n",
    "print(\"--- {:.3f} ms ---\".format(round((time.time() - start_time)*1000)))"
   ]
  },
  {
   "cell_type": "code",
   "execution_count": 55,
   "id": "roman-silly",
   "metadata": {
    "scrolled": true
   },
   "outputs": [
    {
     "name": "stdout",
     "output_type": "stream",
     "text": [
      "[926, 691, -40, 320, -34, 803, 742, 699]\n",
      "[903, -208, 424, -105, 30, 205, 536, -9]\n",
      "[737, 727, 826, 938, 992, 940, 660, 888]\n",
      "--- 6.000 ms ---\n",
      "Исходная матрица\n",
      "[926, 691, -40, 320, -34, 803, 742, 699]\n",
      "[903, -208, 424, -105, 30, 205, 536, -9]\n",
      "[737, 727, 826, 938, 992, 940, 660, 888]\n",
      "Отсортированная матрица\n",
      "[-40, -34, 320, 691, 699, 742, 803, 926]\n",
      "[-208, -105, -9, 30, 205, 424, 536, 903]\n",
      "[660, 727, 737, 826, 888, 938, 940, 992]\n",
      "--- 4.000 ms ---\n"
     ]
    }
   ],
   "source": [
    "# Сортировка вставкой.\n",
    "source_array = random_array_generator(user_m, user_n, user_min_limit, user_max_limit)\n",
    "#print(source_array)\n",
    "start_time = time.time()\n",
    "def insertion_sort(arr):\n",
    "    for i in range(1, user_n):\n",
    "        temp = arr[i]\n",
    "        j = i - 1\n",
    "        while (j >= 0 and temp < arr[j]):\n",
    "            arr[j + 1] = arr[j]\n",
    "            j = j - 1\n",
    "        arr[j + 1] = temp\n",
    "    return arr\n",
    "\n",
    "print('Исходная матрица')\n",
    "for k in range(int(user_m)):\n",
    "    print(source_array[k])\n",
    "\n",
    "print('Отсортированная матрица')\n",
    "insertion_sort_array = copy.deepcopy(source_array)\n",
    "for k in range(int(user_m)):\n",
    "    print(insertion_sort(insertion_sort_array[k]))\n",
    "    \n",
    "time_insertion_sort = round((time.time() - start_time)*1000)    \n",
    "print(\"--- {:.3f} ms ---\".format(round((time.time() - start_time)*1000)))"
   ]
  },
  {
   "cell_type": "code",
   "execution_count": 56,
   "id": "vital-implementation",
   "metadata": {},
   "outputs": [
    {
     "name": "stdout",
     "output_type": "stream",
     "text": [
      "[373, 18, 698, 21, -44, 639, -179, 67]\n",
      "[897, -58, 896, -162, 692, -72, 18, 165]\n",
      "[483, 49, 9, 891, 325, 930, 158, 564]\n",
      "--- 1.000 ms ---\n",
      "Исходная матрица\n",
      "[373, 18, 698, 21, -44, 639, -179, 67]\n",
      "[897, -58, 896, -162, 692, -72, 18, 165]\n",
      "[483, 49, 9, 891, 325, 930, 158, 564]\n",
      "Отсортированная матрица\n",
      "[-179, -44, 18, 21, 67, 373, 639, 698]\n",
      "[-162, -72, -58, 18, 165, 692, 896, 897]\n",
      "[9, 49, 158, 325, 483, 564, 891, 930]\n",
      "--- 3.000 ms ---\n"
     ]
    }
   ],
   "source": [
    "# Сортировка обменом. || Сортировка пузырьком.\n",
    "source_array = random_array_generator(user_m, user_n, user_min_limit, user_max_limit)\n",
    "start_time = time.time()\n",
    "def bubble_sort(arr):\n",
    "        swapped = False\n",
    "        for i in range(user_n-1,0,-1):\n",
    "            for j in range(i):\n",
    "                if arr[j]>arr[j+1]:\n",
    "                    arr[j], arr[j+1] = arr[j+1], arr[j]\n",
    "                    swapped = True\n",
    "            if swapped:\n",
    "                swapped = False\n",
    "            else:\n",
    "                break\n",
    "        return arr\n",
    "\n",
    "print('Исходная матрица')\n",
    "for k in range(int(user_m)):\n",
    "    print(source_array[k])\n",
    "\n",
    "print('Отсортированная матрица')\n",
    "bubble_sort_array = copy.deepcopy(source_array)\n",
    "for k in range(int(user_m)):\n",
    "    print(bubble_sort(bubble_sort_array[k]))\n",
    "\n",
    "time_bubble_sort= round((time.time() - start_time)*1000)   \n",
    "print(\"--- {:.3f} ms ---\".format(round((time.time() - start_time)*1000)))"
   ]
  },
  {
   "cell_type": "code",
   "execution_count": 57,
   "id": "veterinary-glory",
   "metadata": {},
   "outputs": [
    {
     "name": "stdout",
     "output_type": "stream",
     "text": [
      "[-185, 850, 195, 61, 280, 904, 229, 931]\n",
      "[899, 282, 549, 75, 299, 978, -165, 610]\n",
      "[726, -247, -220, 724, 398, 319, -233, 353]\n",
      "--- 0.000 ms ---\n",
      "Исходная матрица\n",
      "[-185, 850, 195, 61, 280, 904, 229, 931]\n",
      "[899, 282, 549, 75, 299, 978, -165, 610]\n",
      "[726, -247, -220, 724, 398, 319, -233, 353]\n",
      "Отсортированная матрица\n",
      "[-185, 61, 195, 229, 280, 850, 904, 931]\n",
      "[-165, 75, 282, 299, 549, 610, 899, 978]\n",
      "[-247, -233, -220, 319, 353, 398, 724, 726]\n",
      "--- 1.000 ms ---\n"
     ]
    }
   ],
   "source": [
    "# Сортировка Шелла.\n",
    "import math\n",
    "source_array = random_array_generator(user_m, user_n, user_min_limit, user_max_limit)\n",
    "start_time = time.time()\n",
    "#TODO\n",
    "def Shell_sort(arr):\n",
    "    p = int(math.log2(user_n))\n",
    "    interval = 2**p -1\n",
    "    while interval > 0:\n",
    "        for i in range(interval, user_n):\n",
    "            temp = arr[i]\n",
    "            j = i\n",
    "            while j >= interval and arr[j - interval] > temp:\n",
    "                arr[j] = arr[j - interval]\n",
    "                j -= interval\n",
    "            arr[j] = temp\n",
    "        p -= 1\n",
    "        interval = 2**p -1\n",
    "    return arr\n",
    "\n",
    "print('Исходная матрица')\n",
    "for k in range(int(user_m)):\n",
    "    print(source_array[k])\n",
    "\n",
    "print('Отсортированная матрица')\n",
    "Shell_sort_array = copy.deepcopy(source_array)\n",
    "for k in range(int(user_m)):\n",
    "    print(Shell_sort(Shell_sort_array[k]))\n",
    "    \n",
    "time_Shell_sort = round((time.time() - start_time)*1000)    \n",
    "print(\"--- {:.3f} ms ---\".format(round((time.time() - start_time)*1000)))"
   ]
  },
  {
   "cell_type": "code",
   "execution_count": 35,
   "id": "correct-chaos",
   "metadata": {},
   "outputs": [
    {
     "name": "stdout",
     "output_type": "stream",
     "text": [
      "--- 0 ms ---\n"
     ]
    }
   ],
   "source": [
    "# Быстрая сортировка.\n",
    "start_time = time.time()\n",
    "#TODO\n",
    "time_quick_sort = round((time.time() - start_time)*1000)\n",
    "print(\"--- {:.3f} ms ---\".format(round((time.time() - start_time)*1000)))\n",
    "    "
   ]
  },
  {
   "cell_type": "code",
   "execution_count": 36,
   "id": "french-czech",
   "metadata": {},
   "outputs": [
    {
     "name": "stdout",
     "output_type": "stream",
     "text": [
      "--- 0 ms ---\n"
     ]
    }
   ],
   "source": [
    "# Турнирная сортировка.\n",
    "start_time = time.time()\n",
    "#TODO\n",
    "time_tournament_sort = round((time.time() - start_time)*1000)\n",
    "print(\"--- {:.3f} ms ---\".format(round((time.time() - start_time)*1000)))"
   ]
  },
  {
   "cell_type": "markdown",
   "id": "rental-jerusalem",
   "metadata": {},
   "source": [
    "### Вывод\n"
   ]
  },
  {
   "cell_type": "code",
   "execution_count": 59,
   "id": "dd66d8c2",
   "metadata": {},
   "outputs": [
    {
     "data": {
      "text/html": [
       "<div>\n",
       "<style scoped>\n",
       "    .dataframe tbody tr th:only-of-type {\n",
       "        vertical-align: middle;\n",
       "    }\n",
       "\n",
       "    .dataframe tbody tr th {\n",
       "        vertical-align: top;\n",
       "    }\n",
       "\n",
       "    .dataframe thead th {\n",
       "        text-align: right;\n",
       "    }\n",
       "</style>\n",
       "<table border=\"1\" class=\"dataframe\">\n",
       "  <thead>\n",
       "    <tr style=\"text-align: right;\">\n",
       "      <th></th>\n",
       "      <th>Алгортим сортировки</th>\n",
       "      <th>Время работы алгоритма</th>\n",
       "      <th>Сложность в худшем случае</th>\n",
       "      <th>Сложность в лучшем случае</th>\n",
       "    </tr>\n",
       "  </thead>\n",
       "  <tbody>\n",
       "    <tr>\n",
       "      <th>0</th>\n",
       "      <td>Сортировка выбором</td>\n",
       "      <td>2</td>\n",
       "      <td>O(n^2)</td>\n",
       "      <td>O(n^2)</td>\n",
       "    </tr>\n",
       "    <tr>\n",
       "      <th>1</th>\n",
       "      <td>Сортировка вставкой</td>\n",
       "      <td>4</td>\n",
       "      <td>O(n^2)</td>\n",
       "      <td>O(n)</td>\n",
       "    </tr>\n",
       "    <tr>\n",
       "      <th>2</th>\n",
       "      <td>Сортировка обменом (пузырьком)</td>\n",
       "      <td>3</td>\n",
       "      <td>O(n^2)</td>\n",
       "      <td>O(n)</td>\n",
       "    </tr>\n",
       "    <tr>\n",
       "      <th>3</th>\n",
       "      <td>Сортировка Шелла</td>\n",
       "      <td>1</td>\n",
       "      <td>O(n(logn)^2)</td>\n",
       "      <td>O(n(log^2*n))</td>\n",
       "    </tr>\n",
       "    <tr>\n",
       "      <th>4</th>\n",
       "      <td>Быстрая сортировка</td>\n",
       "      <td>0</td>\n",
       "      <td>O(n^2)</td>\n",
       "      <td>O(n*log(n))</td>\n",
       "    </tr>\n",
       "    <tr>\n",
       "      <th>5</th>\n",
       "      <td>Турнирная сортировка</td>\n",
       "      <td>0</td>\n",
       "      <td>O(n*log(n))</td>\n",
       "      <td>---</td>\n",
       "    </tr>\n",
       "  </tbody>\n",
       "</table>\n",
       "</div>"
      ],
      "text/plain": [
       "              Алгортим сортировки  Время работы алгоритма  \\\n",
       "0              Сортировка выбором                       2   \n",
       "1             Сортировка вставкой                       4   \n",
       "2  Сортировка обменом (пузырьком)                       3   \n",
       "3                Сортировка Шелла                       1   \n",
       "4              Быстрая сортировка                       0   \n",
       "5            Турнирная сортировка                       0   \n",
       "\n",
       "  Сложность в худшем случае Сложность в лучшем случае  \n",
       "0                    O(n^2)                    O(n^2)  \n",
       "1                    O(n^2)                      O(n)  \n",
       "2                    O(n^2)                      O(n)  \n",
       "3              O(n(logn)^2)             O(n(log^2*n))  \n",
       "4                    O(n^2)               O(n*log(n))  \n",
       "5               O(n*log(n))                       ---  "
      ]
     },
     "execution_count": 59,
     "metadata": {},
     "output_type": "execute_result"
    }
   ],
   "source": [
    "import pandas\n",
    "table_sort = [[\"Сортировка выбором\", time_selection_sort, \"O(n^2)\", \"O(n^2)\"],\n",
    "              [\"Сортировка вставкой\", time_insertion_sort, \"O(n^2)\", \"O(n)\"], \n",
    "              [\"Сортировка обменом (пузырьком)\", time_bubble_sort, \"O(n^2)\", \"O(n)\"], \n",
    "              [\"Сортировка Шелла\", time_Shell_sort, \"O(n(logn)^2)\", \"O(n(log^2*n))\"],\n",
    "              [\"Быстрая сортировка\", time_quick_sort, \"O(n^2)\", \"O(n*log(n))\"],\n",
    "              [\"Турнирная сортировка\", time_tournament_sort, \"O(n*log(n))\", \"---\"]]\n",
    "\n",
    "#найти самый быстрый и сравнивать остальные с ним по времени\n",
    "\n",
    "pandas.DataFrame(table_sort, columns=[\"Алгортим сортировки\",\"Время работы алгоритма\", \"Сложность в худшем случае\", \"Сложность в лучшем случае\"])"
   ]
  },
  {
   "cell_type": "code",
   "execution_count": null,
   "id": "389fd539",
   "metadata": {},
   "outputs": [],
   "source": []
  }
 ],
 "metadata": {
  "kernelspec": {
   "display_name": "Python 3 (ipykernel)",
   "language": "python",
   "name": "python3"
  },
  "language_info": {
   "codemirror_mode": {
    "name": "ipython",
    "version": 3
   },
   "file_extension": ".py",
   "mimetype": "text/x-python",
   "name": "python",
   "nbconvert_exporter": "python",
   "pygments_lexer": "ipython3",
   "version": "3.9.7"
  }
 },
 "nbformat": 4,
 "nbformat_minor": 5
}
