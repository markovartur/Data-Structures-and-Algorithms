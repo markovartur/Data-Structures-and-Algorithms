{
 "cells": [
  {
   "cell_type": "markdown",
   "id": "arctic-stocks",
   "metadata": {},
   "source": [
    "### Задание №1\n",
    "Массив A состоит из целых положительных чисел длин отрезков. Составьте из трех отрезков такой треугольник, чтобы его периметр был максимально возможным. Если невозможно составить треугольник с положительной площадью функция возвращает 0."
   ]
  },
  {
   "cell_type": "code",
   "execution_count": 10,
   "id": "caring-truck",
   "metadata": {
    "scrolled": false
   },
   "outputs": [
    {
     "name": "stdout",
     "output_type": "stream",
     "text": [
      "[10, 6, 5]\n",
      "[5, 4, 2]\n",
      "0\n"
     ]
    }
   ],
   "source": [
    "#import math \n",
    "\n",
    "def task1(x: list[int]):\n",
    "    sorted_arr = sorted(x)\n",
    "    sorted_arr.reverse()\n",
    "    for i in range(len(x) - 2):\n",
    "        if sorted_arr[i] < sum(sorted_arr[i + 1:i + 3]):\n",
    "            return sorted_arr[i:i + 3]\n",
    "    return 0\n",
    "\n",
    "print(task1([1, 2, 5, 6, 10]))\n",
    "print(task1([5, 2, 4, 1, 10]))\n",
    "print(task1([1, 2, 1]))"
   ]
  },
  {
   "cell_type": "markdown",
   "id": "maritime-conversation",
   "metadata": {},
   "source": [
    "### Задание №2\n",
    "Дан массив неотрицательных целых чисел nums. Расположите их в таком порядке, чтобы вместе они образовали максимально возможное число. Замечание: Результат может быть очень большим числом, поэтому представьте его как string, а не integer."
   ]
  },
  {
   "cell_type": "code",
   "execution_count": 17,
   "id": "alert-charm",
   "metadata": {
    "scrolled": false
   },
   "outputs": [
    {
     "name": "stdout",
     "output_type": "stream",
     "text": [
      "9512\n",
      "92807854775363372210\n"
     ]
    }
   ],
   "source": [
    "def task2(nums: list[int]):\n",
    "    sorted_arr = sorted(map(str, nums))\n",
    "    sorted_arr.reverse()\n",
    "    return ''.join(sorted_arr)\n",
    "\n",
    "print(task2([51, 9, 2]))\n",
    "print(task2([92,2,3372,0,36,8,5,4775,807,1]))"
   ]
  },
  {
   "cell_type": "markdown",
   "id": "catholic-roots",
   "metadata": {},
   "source": [
    "### Задание №3\n",
    "Дана матрица mat размером m * n, значения целочисленные. Напишите функцию, сортирующую каждую диагональ матрицы по возрастанию и возвращающую получившуюся матрицу."
   ]
  },
  {
   "cell_type": "code",
   "execution_count": 18,
   "id": "cleared-anniversary",
   "metadata": {
    "scrolled": false
   },
   "outputs": [
    {
     "name": "stdout",
     "output_type": "stream",
     "text": [
      "Исходная матрица\n",
      "  50,  59,  50,  10, -60\n",
      "  18,  63, -48, -18,  28\n",
      " -50,  88,  91,  97, -53\n",
      "   0,  67, -25,  82,  42\n",
      "  33, -91, -25,  21,  99\n",
      "  18,  93,  68,  84,  77\n",
      "  55,  -6,  -3,  72,  83\n",
      "-100, -84, -75, -33, -74\n",
      "\n",
      "Отсортированная матрица\n",
      "  50, -48, -53,  10, -60\n",
      " -25,  63,  42, -18,  28\n",
      " -50,  18,  82,  59,  50\n",
      " -91, -25,  21,  91,  97\n",
      " -33, -74,  67,  77,  99\n",
      " -75,  -3,   0,  83,  88\n",
      " -84,  -6,  33,  68,  84\n",
      "-100,  55,  18,  93,  72\n"
     ]
    }
   ],
   "source": [
    "from random import randint\n",
    "import copy\n",
    "\n",
    "# Сортировка\n",
    "def diagonal_sort(M: list[list[int]]):\n",
    "    y, x = len(M), len(M[0])\n",
    "    for i in range(2-y, x-1):\n",
    "        valid = range(max(0, 0-i), min(y, x-i))\n",
    "        diagonal, k = sorted([M[j][i+j] for j in valid]), 0\n",
    "        for j in valid:\n",
    "            M[j][i+j], k = diagonal[k], k + 1\n",
    "    return M\n",
    "\n",
    "# Генерация матрицы\n",
    "def gen_array(n: int=5, m: int=8, min_value: int=-100, max_value: int=100):\n",
    "    return [[randint(min_value, max_value) for j in range(n)] for i in range(m)]\n",
    "\n",
    "# Вывод\n",
    "def array_int2str(array: list[list[int]]):\n",
    "    return [list(map(str, l)) for l in array]\n",
    "\n",
    "def array_str2nice(array: list[list[str]], max_len: int):\n",
    "    return '\\n'.join(','.join(map(lambda x: ' ' * (max_len - len(x)) + x, l))\n",
    "                     for l in array)\n",
    "array = gen_array()\n",
    "sort_array = copy.deepcopy(array)\n",
    "array_str = array_int2str(array)\n",
    "max_num_len = max(max(map(len, l)) for l in array_str)\n",
    "nice_array = array_str2nice(array_str, max_num_len)\n",
    "print('Исходная матрица')\n",
    "print(nice_array)\n",
    "\n",
    "print('')\n",
    "\n",
    "print('Отсортированная матрица')\n",
    "nice_res_array = array_str2nice(array_int2str(diagonal_sort(sort_array)), max_num_len)\n",
    "print(nice_res_array)"
   ]
  },
  {
   "cell_type": "code",
   "execution_count": null,
   "id": "ba831d2b",
   "metadata": {},
   "outputs": [],
   "source": []
  }
 ],
 "metadata": {
  "kernelspec": {
   "display_name": "Python 3 (ipykernel)",
   "language": "python",
   "name": "python3"
  },
  "language_info": {
   "codemirror_mode": {
    "name": "ipython",
    "version": 3
   },
   "file_extension": ".py",
   "mimetype": "text/x-python",
   "name": "python",
   "nbconvert_exporter": "python",
   "pygments_lexer": "ipython3",
   "version": "3.9.7"
  }
 },
 "nbformat": 4,
 "nbformat_minor": 5
}
