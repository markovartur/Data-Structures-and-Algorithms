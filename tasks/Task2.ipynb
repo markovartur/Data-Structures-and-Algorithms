{
 "cells": [
  {
   "cell_type": "markdown",
   "id": "arctic-stocks",
   "metadata": {},
   "source": [
    "### Задание №1\n",
    "Массив A состоит из целых положительных чисел длин отрезков. Составьте из трех отрезков такой треугольник, чтобы его периметр был максимально возможным. Если невозможно составить треугольник с положительной площадью функция возвращает 0."
   ]
  },
  {
   "cell_type": "code",
   "execution_count": 10,
   "id": "caring-truck",
   "metadata": {
    "scrolled": false
   },
   "outputs": [
    {
     "name": "stdout",
     "output_type": "stream",
     "text": [
      "[10, 6, 5]\n",
      "[5, 4, 2]\n",
      "0\n"
     ]
    }
   ],
   "source": [
    "#import math \n",
    "\n",
    "def task1(x: list[int]):\n",
    "    sorted_arr = sorted(x)\n",
    "    sorted_arr.reverse()\n",
    "    for i in range(len(x) - 2):\n",
    "        if sorted_arr[i] < sum(sorted_arr[i + 1:i + 3]):\n",
    "            return sorted_arr[i:i + 3]\n",
    "    return 0\n",
    "\n",
    "print(task1([1, 2, 5, 6, 10]))\n",
    "print(task1([5, 2, 4, 1, 10]))\n",
    "print(task1([1, 2, 1]))"
   ]
  },
  {
   "cell_type": "markdown",
   "id": "maritime-conversation",
   "metadata": {},
   "source": [
    "### Задание №2\n",
    "Дан массив неотрицательных целых чисел nums. Расположите их в таком порядке, чтобы вместе они образовали максимально возможное число. Замечание: Результат может быть очень большим числом, поэтому представьте его как string, а не integer."
   ]
  },
  {
   "cell_type": "code",
   "execution_count": 17,
   "id": "alert-charm",
   "metadata": {
    "scrolled": false
   },
   "outputs": [
    {
     "name": "stdout",
     "output_type": "stream",
     "text": [
      "9512\n",
      "92807854775363372210\n"
     ]
    }
   ],
   "source": [
    "def task2(nums: list[int]):\n",
    "    sorted_arr = sorted(map(str, nums))\n",
    "    sorted_arr.reverse()\n",
    "    return ''.join(sorted_arr)\n",
    "\n",
    "print(task2([51, 9, 2]))\n",
    "print(task2([92,2,3372,0,36,8,5,4775,807,1]))"
   ]
  },
  {
   "cell_type": "markdown",
   "id": "catholic-roots",
   "metadata": {},
   "source": [
    "### Задание №3\n",
    "Дана матрица mat размером m * n, значения целочисленные. Напишите функцию, сортирующую каждую диагональ матрицы по возрастанию и возвращающую получившуюся матрицу."
   ]
  },
  {
   "cell_type": "code",
   "execution_count": 1,
   "id": "cleared-anniversary",
   "metadata": {
    "scrolled": false
   },
   "outputs": [
    {
     "name": "stdout",
     "output_type": "stream",
     "text": [
      "Исходная матрица\n",
      " 69, 29, 40, 21,-17\n",
      "  4, 99,-61,-66, 44\n",
      " 51,-59, 29, 55,-74\n",
      " 49,-62,  8, 97, 16\n",
      "-56, 85, 51,-86,-25\n",
      " 41,-70, 89,-15, 36\n",
      "-85,-18,-60,-48,-24\n",
      " 53,-38, 89,-96, 70\n",
      "\n",
      "Отсортированная матрица\n",
      "-25,-61,-74, 21,-17\n",
      "-86, 29, 16,-66, 44\n",
      "-62,-59, 69, 29, 40\n",
      "-48,-24,  4, 97, 55\n",
      "-96, 49,-15,  8, 99\n",
      "-18,-70, 70, 51, 36\n",
      "-85, 41,-60, 85, 51\n",
      " 53,-38, 89,-56, 89\n"
     ]
    }
   ],
   "source": [
    "from random import randint\n",
    "import copy\n",
    "\n",
    "# Сортировка\n",
    "def diagonal_sort(Mat: list[list[int]]):\n",
    "    y, x = len(Mat), len(Mat[0])\n",
    "    for i in range(2-y, x-1):\n",
    "        valid = range(max(0, 0-i), min(y, x-i))\n",
    "        diagonal, k = sorted([Mat[j][i+j] for j in valid]), 0\n",
    "        for j in valid:\n",
    "            Mat[j][i+j], k = diagonal[k], k + 1\n",
    "    return Mat\n",
    "\n",
    "# Генерация матрицы\n",
    "def gen_array(n: int=5, m: int=8, min_value: int=-100, max_value: int=100):\n",
    "    return [[randint(min_value, max_value) for j in range(n)] for i in range(m)]\n",
    "\n",
    "# Вывод\n",
    "def array_int2str(array: list[list[int]]):\n",
    "    return [list(map(str, l)) for l in array]\n",
    "\n",
    "def array_str2nice(array: list[list[str]], max_len: int):\n",
    "    return '\\n'.join(','.join(map(lambda x: ' ' * (max_len - len(x)) + x, l))\n",
    "                     for l in array)\n",
    "array = gen_array()\n",
    "sort_array = copy.deepcopy(array)\n",
    "array_str = array_int2str(array)\n",
    "max_num_len = max(max(map(len, l)) for l in array_str)\n",
    "nice_array = array_str2nice(array_str, max_num_len)\n",
    "print('Исходная матрица')\n",
    "print(nice_array)\n",
    "\n",
    "print('')\n",
    "\n",
    "print('Отсортированная матрица')\n",
    "nice_res_array = array_str2nice(array_int2str(diagonal_sort(sort_array)), max_num_len)\n",
    "print(nice_res_array)"
   ]
  },
  {
   "cell_type": "code",
   "execution_count": null,
   "id": "ba831d2b",
   "metadata": {},
   "outputs": [],
   "source": []
  }
 ],
 "metadata": {
  "kernelspec": {
   "display_name": "Python 3 (ipykernel)",
   "language": "python",
   "name": "python3"
  },
  "language_info": {
   "codemirror_mode": {
    "name": "ipython",
    "version": 3
   },
   "file_extension": ".py",
   "mimetype": "text/x-python",
   "name": "python",
   "nbconvert_exporter": "python",
   "pygments_lexer": "ipython3",
   "version": "3.9.7"
  }
 },
 "nbformat": 4,
 "nbformat_minor": 5
}
